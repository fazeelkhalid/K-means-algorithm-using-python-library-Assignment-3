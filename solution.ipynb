{
 "cells": [
  {
   "cell_type": "code",
   "execution_count": 17,
   "id": "bdc42936",
   "metadata": {},
   "outputs": [],
   "source": [
    "import warnings\n",
    "warnings.filterwarnings('ignore')\n",
    "warnings.simplefilter('ignore')"
   ]
  },
  {
   "cell_type": "code",
   "execution_count": 29,
   "id": "3cb19a58",
   "metadata": {},
   "outputs": [
    {
     "name": "stdout",
     "output_type": "stream",
     "text": [
      "--------------------- PART A START FROM HERE --------------------- \n"
     ]
    }
   ],
   "source": [
    "print(\"--------------------- PART A START FROM HERE --------------------- \")"
   ]
  },
  {
   "cell_type": "code",
   "execution_count": 50,
   "id": "4ca1a1f3",
   "metadata": {},
   "outputs": [
    {
     "data": {
      "text/html": [
       "<div>\n",
       "<style scoped>\n",
       "    .dataframe tbody tr th:only-of-type {\n",
       "        vertical-align: middle;\n",
       "    }\n",
       "\n",
       "    .dataframe tbody tr th {\n",
       "        vertical-align: top;\n",
       "    }\n",
       "\n",
       "    .dataframe thead th {\n",
       "        text-align: right;\n",
       "    }\n",
       "</style>\n",
       "<table border=\"1\" class=\"dataframe\">\n",
       "  <thead>\n",
       "    <tr style=\"text-align: right;\">\n",
       "      <th></th>\n",
       "      <th>x0</th>\n",
       "      <th>x1</th>\n",
       "      <th>x2</th>\n",
       "    </tr>\n",
       "  </thead>\n",
       "  <tbody>\n",
       "    <tr>\n",
       "      <th>0</th>\n",
       "      <td>1</td>\n",
       "      <td>8.420000e+13</td>\n",
       "      <td>6.080000e+13</td>\n",
       "    </tr>\n",
       "    <tr>\n",
       "      <th>1</th>\n",
       "      <td>5</td>\n",
       "      <td>6.590000e+14</td>\n",
       "      <td>8.000000e+13</td>\n",
       "    </tr>\n",
       "    <tr>\n",
       "      <th>2</th>\n",
       "      <td>6</td>\n",
       "      <td>3.530000e+13</td>\n",
       "      <td>2.910000e+13</td>\n",
       "    </tr>\n",
       "    <tr>\n",
       "      <th>3</th>\n",
       "      <td>2</td>\n",
       "      <td>9.040000e+13</td>\n",
       "      <td>6.120000e+13</td>\n",
       "    </tr>\n",
       "    <tr>\n",
       "      <th>4</th>\n",
       "      <td>3</td>\n",
       "      <td>2.320000e+13</td>\n",
       "      <td>9.400000e+13</td>\n",
       "    </tr>\n",
       "  </tbody>\n",
       "</table>\n",
       "</div>"
      ],
      "text/plain": [
       "   x0            x1            x2\n",
       "0   1  8.420000e+13  6.080000e+13\n",
       "1   5  6.590000e+14  8.000000e+13\n",
       "2   6  3.530000e+13  2.910000e+13\n",
       "3   2  9.040000e+13  6.120000e+13\n",
       "4   3  2.320000e+13  9.400000e+13"
      ]
     },
     "execution_count": 50,
     "metadata": {},
     "output_type": "execute_result"
    }
   ],
   "source": [
    "import pandas as pd\n",
    "\n",
    "fileData = pd.read_csv(\"k-means.csv\")\n",
    "fileData.head()"
   ]
  },
  {
   "cell_type": "code",
   "execution_count": 51,
   "id": "2e64e8cb",
   "metadata": {},
   "outputs": [
    {
     "data": {
      "text/plain": [
       "Text(0.5, 1.0, 'Graph Between x0 and x1')"
      ]
     },
     "execution_count": 51,
     "metadata": {},
     "output_type": "execute_result"
    },
    {
     "data": {
      "image/png": "[encoded data removed]",
      "text/plain": [
       "<Figure size 432x288 with 1 Axes>"
      ]
     },
     "metadata": {
      "needs_background": "light"
     },
     "output_type": "display_data"
    }
   ],
   "source": [
    "#Now Tryoing to create a scatter graph of the file data\n",
    "from matplotlib import pyplot as plot1\n",
    "plot1.scatter(fileData.x0,fileData.x2)\n",
    "plot1.xlabel('x0')\n",
    "plot1.ylabel('x1')\n",
    "plot1.title(\"Graph Between x0 and x1\")\n"
   ]
  },
  {
   "cell_type": "code",
   "execution_count": 52,
   "id": "a3753912",
   "metadata": {},
   "outputs": [
    {
     "data": {
      "text/plain": [
       "Text(0.5, 1.0, 'Graph Between x1 and x2')"
      ]
     },
     "execution_count": 52,
     "metadata": {},
     "output_type": "execute_result"
    },
    {
     "data": {
      "image/png": "[encoded data removed]",
      "text/plain": [
       "<Figure size 432x288 with 1 Axes>"
      ]
     },
     "metadata": {
      "needs_background": "light"
     },
     "output_type": "display_data"
    }
   ],
   "source": [
    "from matplotlib import pyplot as plot2\n",
    "plot2.scatter(fileData.x1,fileData.x2)\n",
    "plot2.xlabel('x1')\n",
    "plot2.ylabel('x2')\n",
    "plot2.title(\"Graph Between x1 and x2\")\n"
   ]
  },
  {
   "cell_type": "code",
   "execution_count": 30,
   "id": "980ba2b0",
   "metadata": {},
   "outputs": [
    {
     "name": "stdout",
     "output_type": "stream",
     "text": [
      "--------------------- PART B START FROM HERE --------------------- \n"
     ]
    }
   ],
   "source": [
    "print(\"--------------------- PART B START FROM HERE --------------------- \")"
   ]
  },
  {
   "cell_type": "code",
   "execution_count": 56,
   "id": "7fc3cdc2",
   "metadata": {},
   "outputs": [
    {
     "name": "stdout",
     "output_type": "stream",
     "text": [
      "KMeans with 2 clusters by using x1 and x2\n"
     ]
    }
   ],
   "source": [
    "print(\"KMeans with 2 clusters by using x1 and x2\")\n",
    "from sklearn.cluster import KMeans\n",
    "kmeans = KMeans(n_clusters=2)\n",
    "predictedCluster_Y = kmeans.fit_predict(fileData[['x1','x2']])\n",
    "# Now add the predicted cluster with the actual file data so\n",
    "fileData['predictedCluster_Y'] = predictedCluster_Y;\n",
    "\n"
   ]
  },
  {
   "cell_type": "code",
   "execution_count": 57,
   "id": "5de2f1e7",
   "metadata": {},
   "outputs": [
    {
     "data": {
      "text/plain": [
       "array([[4.82499655e+14, 1.39939076e+14],\n",
       "       [7.66800000e+15, 6.11240000e+13]])"
      ]
     },
     "execution_count": 57,
     "metadata": {},
     "output_type": "execute_result"
    }
   ],
   "source": [
    "kmeans.cluster_centers_"
   ]
  },
  {
   "cell_type": "code",
   "execution_count": 63,
   "id": "9b888403",
   "metadata": {},
   "outputs": [],
   "source": [
    "fileData0 = fileData[fileData.predictedCluster_Y==0]\n",
    "fileData1 = fileData[fileData.predictedCluster_Y==1]"
   ]
  },
  {
   "cell_type": "code",
   "execution_count": 72,
   "id": "bae8038a",
   "metadata": {},
   "outputs": [
    {
     "data": {
      "text/plain": [
       "<matplotlib.legend.Legend at 0x25820c31a90>"
      ]
     },
     "execution_count": 72,
     "metadata": {},
     "output_type": "execute_result"
    },
    {
     "data": {
      "image/png": "[encoded data removed]",
      "text/plain": [
       "<Figure size 432x288 with 1 Axes>"
      ]
     },
     "metadata": {
      "needs_background": "light"
     },
     "output_type": "display_data"
    }
   ],
   "source": [
    "# Now plost those graphs by using scatter graph function of matplotlib library\n",
    "from matplotlib import pyplot as plot\n",
    "plot.scatter(fileData0[\"x1\"],fileData0['x2'],color='green')\n",
    "plot.scatter(fileData1[\"x1\"],fileData1['x2'],color='red')\n",
    "plot.scatter(kmeans.cluster_centers_[:,0],kmeans.cluster_centers_[:,1],color='black',marker='X',label='Cluster Center');\n",
    "\n",
    "plot.xlabel(\"x1\");\n",
    "plot.ylabel(\"x2\");\n",
    "plot.legend()"
   ]
  },
  {
   "cell_type": "code",
   "execution_count": 73,
   "id": "7d772217",
   "metadata": {},
   "outputs": [
    {
     "name": "stdout",
     "output_type": "stream",
     "text": [
      "KMeans with 4 clusters by using x1 and x2\n"
     ]
    }
   ],
   "source": [
    "print(\"KMeans with 4 clusters by using x1 and x2\")\n",
    "from sklearn.cluster import KMeans\n",
    "kmeans = KMeans(n_clusters=4)\n",
    "predictedCluster_Y = kmeans.fit_predict(fileData[['x1','x2']])\n",
    "# Now add the predicted cluster with the actual file data so\n",
    "fileData['predictedCluster_Y'] = predictedCluster_Y;"
   ]
  },
  {
   "cell_type": "code",
   "execution_count": 74,
   "id": "3ec7194f",
   "metadata": {},
   "outputs": [],
   "source": [
    "fileData0 = fileData[fileData.predictedCluster_Y==0]\n",
    "fileData1 = fileData[fileData.predictedCluster_Y==1]\n",
    "fileData2 = fileData[fileData.predictedCluster_Y==2]\n",
    "fileData3 = fileData[fileData.predictedCluster_Y==3]"
   ]
  },
  {
   "cell_type": "code",
   "execution_count": 75,
   "id": "35615ff7",
   "metadata": {},
   "outputs": [
    {
     "data": {
      "text/plain": [
       "<matplotlib.legend.Legend at 0x2581c69d2b0>"
      ]
     },
     "execution_count": 75,
     "metadata": {},
     "output_type": "execute_result"
    },
    {
     "data": {
      "image/png": "[encoded data removed]",
      "text/plain": [
       "<Figure size 432x288 with 1 Axes>"
      ]
     },
     "metadata": {
      "needs_background": "light"
     },
     "output_type": "display_data"
    }
   ],
   "source": [
    "# Now plost those graphs by using scatter graph function of matplotlib library\n",
    "from matplotlib import pyplot as plot\n",
    "plot.scatter(fileData0[\"x1\"],fileData0['x2'],color='green')\n",
    "plot.scatter(fileData1[\"x1\"],fileData1['x2'],color='red')\n",
    "plot.scatter(fileData2[\"x1\"],fileData2['x2'],color='yellow')\n",
    "plot.scatter(fileData3[\"x1\"],fileData3['x2'],color='gray')\n",
    "plot.scatter(kmeans.cluster_centers_[:,0],kmeans.cluster_centers_[:,1],color='black',marker='X',label='Cluster Center');\n",
    "plot.xlabel(\"x1\");\n",
    "plot.ylabel(\"x2\");\n",
    "plot.legend()"
   ]
  },
  {
   "cell_type": "code",
   "execution_count": 91,
   "id": "4aa17d20",
   "metadata": {},
   "outputs": [],
   "source": [
    "# Now you can see that the graph is ok so we have to use elbow method\n",
    "sse = []\n",
    "k_rng = range(1,10)\n",
    "for k in k_rng:\n",
    "    kmeans = KMeans(n_clusters=k)\n",
    "    kmeans.fit(fileData[['x1','x2']])\n",
    "    sse.append(kmeans.inertia_)\n",
    "    \n"
   ]
  },
  {
   "cell_type": "code",
   "execution_count": 92,
   "id": "de839be1",
   "metadata": {},
   "outputs": [
    {
     "data": {
      "text/plain": [
       "[<matplotlib.lines.Line2D at 0x2581cc9d310>]"
      ]
     },
     "execution_count": 92,
     "metadata": {},
     "output_type": "execute_result"
    },
    {
     "data": {
      "image/png": "[encoded data removed]",
      "text/plain": [
       "<Figure size 432x288 with 1 Axes>"
      ]
     },
     "metadata": {
      "needs_background": "light"
     },
     "output_type": "display_data"
    }
   ],
   "source": [
    "# Now creating a graph for the best fit cluster\n",
    "plt.xlabel('K')\n",
    "plt.ylabel('Sum of squared error')\n",
    "plt.plot(k_rng,sse)\n"
   ]
  },
  {
   "cell_type": "code",
   "execution_count": 78,
   "id": "fba82398",
   "metadata": {},
   "outputs": [],
   "source": [
    "# Now we have to apply kmeans with 3 cluster\n",
    "kmeans=KMeans(n_clusters= 3, init = 'k-means++', max_iter = 100, n_init = 10, random_state = 0)\n",
    "predictedCluster_Y = kmeans.fit_predict(fileData[['x1','x2']])\n",
    "# Now add the predicted cluster with the actual file data so\n",
    "fileData['predictedCluster_Y'] = predictedCluster_Y;\n"
   ]
  },
  {
   "cell_type": "code",
   "execution_count": 79,
   "id": "e9d25010",
   "metadata": {},
   "outputs": [],
   "source": [
    "fileData0 = fileData[fileData.predictedCluster_Y==0]\n",
    "fileData1 = fileData[fileData.predictedCluster_Y==1]\n",
    "fileData2 = fileData[fileData.predictedCluster_Y==2]"
   ]
  },
  {
   "cell_type": "code",
   "execution_count": 80,
   "id": "e96f0cd5",
   "metadata": {},
   "outputs": [
    {
     "data": {
      "text/plain": [
       "<matplotlib.legend.Legend at 0x2581cb16670>"
      ]
     },
     "execution_count": 80,
     "metadata": {},
     "output_type": "execute_result"
    },
    {
     "data": {
      "image/png": "[encoded data removed]",
      "text/plain": [
       "<Figure size 432x288 with 1 Axes>"
      ]
     },
     "metadata": {
      "needs_background": "light"
     },
     "output_type": "display_data"
    }
   ],
   "source": [
    "# Now plost those graphs by using scatter graph function of matplotlib library\n",
    "from matplotlib import pyplot as plot\n",
    "plot.scatter(fileData0[\"x1\"],fileData0['x2'],color='green')\n",
    "plot.scatter(fileData1[\"x1\"],fileData1['x2'],color='red')\n",
    "plot.scatter(fileData2[\"x1\"],fileData2['x2'],color='yellow')\n",
    "plot.scatter(kmeans.cluster_centers_[:,0],kmeans.cluster_centers_[:,1],color='black',marker='X',label='Cluster Center');\n",
    "plot.xlabel(\"x1\");\n",
    "plot.ylabel(\"x2\");\n",
    "plot.legend()"
   ]
  },
  {
   "cell_type": "code",
   "execution_count": 123,
   "id": "b1bd52f5",
   "metadata": {},
   "outputs": [
    {
     "name": "stdout",
     "output_type": "stream",
     "text": [
      "--------------------- PART C START FROM HERE --------------------- \n"
     ]
    },
    {
     "data": {
      "text/html": [
       "<div>\n",
       "<style scoped>\n",
       "    .dataframe tbody tr th:only-of-type {\n",
       "        vertical-align: middle;\n",
       "    }\n",
       "\n",
       "    .dataframe tbody tr th {\n",
       "        vertical-align: top;\n",
       "    }\n",
       "\n",
       "    .dataframe thead th {\n",
       "        text-align: right;\n",
       "    }\n",
       "</style>\n",
       "<table border=\"1\" class=\"dataframe\">\n",
       "  <thead>\n",
       "    <tr style=\"text-align: right;\">\n",
       "      <th></th>\n",
       "      <th>x1</th>\n",
       "      <th>x2</th>\n",
       "      <th>points</th>\n",
       "    </tr>\n",
       "  </thead>\n",
       "  <tbody>\n",
       "    <tr>\n",
       "      <th>0</th>\n",
       "      <td>0.3</td>\n",
       "      <td>5.2</td>\n",
       "      <td>p1</td>\n",
       "    </tr>\n",
       "    <tr>\n",
       "      <th>1</th>\n",
       "      <td>2.0</td>\n",
       "      <td>4.4</td>\n",
       "      <td>p2</td>\n",
       "    </tr>\n",
       "    <tr>\n",
       "      <th>2</th>\n",
       "      <td>1.1</td>\n",
       "      <td>5.2</td>\n",
       "      <td>p3</td>\n",
       "    </tr>\n",
       "    <tr>\n",
       "      <th>3</th>\n",
       "      <td>5.2</td>\n",
       "      <td>2.9</td>\n",
       "      <td>p4</td>\n",
       "    </tr>\n",
       "    <tr>\n",
       "      <th>4</th>\n",
       "      <td>5.3</td>\n",
       "      <td>3.3</td>\n",
       "      <td>p5</td>\n",
       "    </tr>\n",
       "  </tbody>\n",
       "</table>\n",
       "</div>"
      ],
      "text/plain": [
       "    x1   x2 points\n",
       "0  0.3  5.2     p1\n",
       "1  2.0  4.4     p2\n",
       "2  1.1  5.2     p3\n",
       "3  5.2  2.9     p4\n",
       "4  5.3  3.3     p5"
      ]
     },
     "execution_count": 123,
     "metadata": {},
     "output_type": "execute_result"
    }
   ],
   "source": [
    "print(\"--------------------- PART C START FROM HERE --------------------- \")\n",
    "import pandas as pd\n",
    "\n",
    "fileData = pd.read_csv(\"partc.csv\")\n",
    "fileData.head()"
   ]
  },
  {
   "cell_type": "code",
   "execution_count": 127,
   "id": "4c4dd3f6",
   "metadata": {},
   "outputs": [],
   "source": [
    "# Now we have to apply kmeans with 2 cluster\n",
    "kmeans=KMeans(n_clusters= 2, init = 'k-means++', max_iter = 100, n_init = 10, random_state = 0)\n",
    "predictedCluster_Y = kmeans.fit_predict(fileData[['x1','x2']])\n",
    "# Now add the predicted cluster with the actual file data so\n",
    "fileData['predictedCluster_Y'] = predictedCluster_Y;\n"
   ]
  },
  {
   "cell_type": "code",
   "execution_count": 128,
   "id": "10b6a535",
   "metadata": {},
   "outputs": [],
   "source": [
    "fileData0 = fileData[fileData.predictedCluster_Y==0]\n",
    "fileData1 = fileData[fileData.predictedCluster_Y==1]"
   ]
  },
  {
   "cell_type": "code",
   "execution_count": 129,
   "id": "41f89afc",
   "metadata": {},
   "outputs": [
    {
     "data": {
      "text/plain": [
       "<matplotlib.legend.Legend at 0x2582153ff40>"
      ]
     },
     "execution_count": 129,
     "metadata": {},
     "output_type": "execute_result"
    },
    {
     "data": {
      "image/png": "[encoded data removed]",
      "text/plain": [
       "<Figure size 432x288 with 1 Axes>"
      ]
     },
     "metadata": {
      "needs_background": "light"
     },
     "output_type": "display_data"
    }
   ],
   "source": [
    "# Now plost those graphs by using scatter graph function of matplotlib library\n",
    "from matplotlib import pyplot as plot\n",
    "plot.scatter(fileData0[\"x1\"],fileData0['x2'],color='green')\n",
    "plot.scatter(fileData1[\"x1\"],fileData1['x2'],color='red')\n",
    "plot.scatter(kmeans.cluster_centers_[:,0],kmeans.cluster_centers_[:,1],color='black',marker='X',label='Cluster Center');\n",
    "plot.xlabel(\"x1\");\n",
    "plot.ylabel(\"x2\");\n",
    "plot.legend()"
   ]
  },
  {
   "cell_type": "code",
   "execution_count": 131,
   "id": "c417ebd3",
   "metadata": {},
   "outputs": [
    {
     "name": "stdout",
     "output_type": "stream",
     "text": [
      "--------------------- PART E START FROM HERE --------------------- \n"
     ]
    },
    {
     "data": {
      "text/html": [
       "<div>\n",
       "<style scoped>\n",
       "    .dataframe tbody tr th:only-of-type {\n",
       "        vertical-align: middle;\n",
       "    }\n",
       "\n",
       "    .dataframe tbody tr th {\n",
       "        vertical-align: top;\n",
       "    }\n",
       "\n",
       "    .dataframe thead th {\n",
       "        text-align: right;\n",
       "    }\n",
       "</style>\n",
       "<table border=\"1\" class=\"dataframe\">\n",
       "  <thead>\n",
       "    <tr style=\"text-align: right;\">\n",
       "      <th></th>\n",
       "      <th>x0</th>\n",
       "      <th>x1</th>\n",
       "      <th>x2</th>\n",
       "    </tr>\n",
       "  </thead>\n",
       "  <tbody>\n",
       "    <tr>\n",
       "      <th>0</th>\n",
       "      <td>1</td>\n",
       "      <td>8.420000e+13</td>\n",
       "      <td>6.080000e+13</td>\n",
       "    </tr>\n",
       "    <tr>\n",
       "      <th>1</th>\n",
       "      <td>5</td>\n",
       "      <td>6.590000e+14</td>\n",
       "      <td>8.000000e+13</td>\n",
       "    </tr>\n",
       "    <tr>\n",
       "      <th>2</th>\n",
       "      <td>6</td>\n",
       "      <td>3.530000e+13</td>\n",
       "      <td>2.910000e+13</td>\n",
       "    </tr>\n",
       "    <tr>\n",
       "      <th>3</th>\n",
       "      <td>2</td>\n",
       "      <td>9.040000e+13</td>\n",
       "      <td>6.120000e+13</td>\n",
       "    </tr>\n",
       "    <tr>\n",
       "      <th>4</th>\n",
       "      <td>3</td>\n",
       "      <td>2.320000e+13</td>\n",
       "      <td>9.400000e+13</td>\n",
       "    </tr>\n",
       "  </tbody>\n",
       "</table>\n",
       "</div>"
      ],
      "text/plain": [
       "   x0            x1            x2\n",
       "0   1  8.420000e+13  6.080000e+13\n",
       "1   5  6.590000e+14  8.000000e+13\n",
       "2   6  3.530000e+13  2.910000e+13\n",
       "3   2  9.040000e+13  6.120000e+13\n",
       "4   3  2.320000e+13  9.400000e+13"
      ]
     },
     "execution_count": 131,
     "metadata": {},
     "output_type": "execute_result"
    }
   ],
   "source": [
    "print(\"--------------------- PART E START FROM HERE --------------------- \")\n",
    "# silhouette_score for the k-means.csv file data\n",
    "from sklearn.metrics import silhouette_score\n",
    "fileData = pd.read_csv(\"k-means.csv\")\n",
    "fileData.head()"
   ]
  },
  {
   "cell_type": "code",
   "execution_count": 143,
   "id": "689f8672",
   "metadata": {},
   "outputs": [
    {
     "name": "stdout",
     "output_type": "stream",
     "text": [
      "Cluster 0\n",
      "Coefficient 0.5963579316766752\n",
      "Cluster 1\n",
      "Coefficient 0.5963579316766752\n",
      "Cluster 2\n",
      "Coefficient 0.5963579316766752\n",
      "Cluster 3\n",
      "Coefficient 0.5963579316766752\n",
      "Cluster 4\n",
      "Coefficient 0.5963579316766752\n",
      "Cluster 5\n",
      "Coefficient 0.5963579316766752\n",
      "Cluster 6\n",
      "Coefficient 0.5963579316766752\n",
      "Cluster 7\n",
      "Coefficient 0.5148651543508168\n",
      "Cluster 8\n",
      "Coefficient 0.5963579316766752\n",
      "Cluster 9\n",
      "Coefficient 0.5963579316766752\n"
     ]
    }
   ],
   "source": [
    "\n",
    "for n_clusters in range(0,10):# Maximum range should be 6, as it contains only 6 data points\n",
    "    kmeans = KMeans(n_clusters=k,max_iter=100).fit(fileData[['x1','x2']])\n",
    "    label = kmeans.labels_\n",
    "    sil_coeff = silhouette_score(fileData[['x1','x2']],label,metric = 'euclidean')\n",
    "    print('Cluster {}'.format(n_clusters))\n",
    "    print('Coefficient {}'.format(sil_coeff))\n",
    "    \n",
    "# SO with the help of coefficient we can see the perfect number of cluster for the data is (3) "
   ]
  },
  {
   "cell_type": "code",
   "execution_count": null,
   "id": "76553650",
   "metadata": {},
   "outputs": [],
   "source": []
  }
 ],
 "metadata": {
  "kernelspec": {
   "display_name": "Python 3 (ipykernel)",
   "language": "python",
   "name": "python3"
  },
  "language_info": {
   "codemirror_mode": {
    "name": "ipython",
    "version": 3
   },
   "file_extension": ".py",
   "mimetype": "text/x-python",
   "name": "python",
   "nbconvert_exporter": "python",
   "pygments_lexer": "ipython3",
   "version": "3.9.7"
  }
 },
 "nbformat": 4,
 "nbformat_minor": 5
}
